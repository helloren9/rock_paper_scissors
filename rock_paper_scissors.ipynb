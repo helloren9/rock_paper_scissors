{
 "cells": [
  {
   "cell_type": "code",
   "execution_count": 2,
   "metadata": {},
   "outputs": [
    {
     "name": "stdout",
     "output_type": "stream",
     "text": [
      "Game Tied\n",
      "Game Tied\n",
      "You win\n",
      "Game Tied\n",
      "You win\n",
      "You win\n",
      "You win\n",
      "You lose\n",
      "You win\n",
      "You win\n",
      "You win\n",
      "You win\n",
      "You win\n",
      "You lose\n",
      "You win\n",
      "Thanks for playing!\n"
     ]
    }
   ],
   "source": [
    "import random\n",
    "\n",
    "choices = ['rock', 'paper', 'scissors']\n",
    "\n",
    "while True:\n",
    "    player_choice = input(\"Enter your choice (Rock, Paper, Scissors) or type 'Quit' to end game: \").lower()\n",
    "\n",
    "    if player_choice == 'quit':\n",
    "        print(\"Thanks for playing!\")\n",
    "        break\n",
    "\n",
    "    computer_choice = random.choice(choices)\n",
    "\n",
    "    if player_choice == computer_choice:\n",
    "        print(\"Game Tied\")\n",
    "    elif (player_choice == \"rock\" and computer_choice == \"paper\") or \\\n",
    "        (player_choice == \"scissors\" and computer_choice == \"rock\") or \\\n",
    "        (player_choice == \"paper\" and computer_choice == \"scissors\"):\n",
    "        print(\"You lose\")\n",
    "    else:\n",
    "        print(\"You win\")"
   ]
  }
 ],
 "metadata": {
  "kernelspec": {
   "display_name": "Python 3",
   "language": "python",
   "name": "python3"
  },
  "language_info": {
   "codemirror_mode": {
    "name": "ipython",
    "version": 3
   },
   "file_extension": ".py",
   "mimetype": "text/x-python",
   "name": "python",
   "nbconvert_exporter": "python",
   "pygments_lexer": "ipython3",
   "version": "3.10.7"
  }
 },
 "nbformat": 4,
 "nbformat_minor": 2
}
